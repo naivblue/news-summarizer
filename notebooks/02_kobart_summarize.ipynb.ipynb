{
 "cells": [
  {
   "cell_type": "code",
   "execution_count": 26,
   "id": "355afc1d-82ce-4946-858f-30cd8460b895",
   "metadata": {},
   "outputs": [
    {
     "name": "stderr",
     "output_type": "stream",
     "text": [
      "You passed along `num_labels=3` with an incompatible id to label map: {'0': 'NEGATIVE', '1': 'POSITIVE'}. The number of labels will be overwritten to 2.\n",
      "You passed along `num_labels=3` with an incompatible id to label map: {'0': 'NEGATIVE', '1': 'POSITIVE'}. The number of labels will be overwritten to 2.\n",
      "You passed along `num_labels=3` with an incompatible id to label map: {'0': 'NEGATIVE', '1': 'POSITIVE'}. The number of labels will be overwritten to 2.\n"
     ]
    },
    {
     "name": "stdout",
     "output_type": "stream",
     "text": [
      "📄 요약 결과:\n",
      "국정정부는 오늘 대통령 주재 국무회의에서 ‘미래산업 전략'을 확정하는 '미래산업 전략을 확정하는 '미래산업 전략'을 확정하는 '미래산업 전략을 확정하는 '미래산업 전략'을 확정하는 '미래산업 전략'을 확정하는 '미래산업 전략을 확정하는 '미래산업 전략'을 확정했다.\n"
     ]
    }
   ],
   "source": [
    "from transformers import AutoTokenizer, BartForConditionalGeneration\n",
    "\n",
    "model_name = \"gogamza/kobart-summarization\"\n",
    "tokenizer = AutoTokenizer.from_pretrained(model_name)\n",
    "model = BartForConditionalGeneration.from_pretrained(model_name, ignore_mismatched_sizes=True  )\n",
    "\n",
    "text = \"\"\"\n",
    "정부는 오늘 대통령 주재 국무회의에서 ‘미래산업 전략’을 확정했다.\n",
    "이 전략은 반도체, 인공지능, 바이오 분야를 중심으로 약 50조 원 규모의 투자를 포함한다.\n",
    "\"\"\"\n",
    "\n",
    "inputs = tokenizer([text], return_tensors=\"pt\", max_length=1024, truncation=True)\n",
    "summary_ids = model.generate(inputs[\"input_ids\"], max_length=150, num_beams=4, early_stopping=True)\n",
    "summary = tokenizer.decode(summary_ids[0], skip_special_tokens=True)\n",
    "\n",
    "print(\"📄 요약 결과:\")\n",
    "print(summary)\n"
   ]
  },
  {
   "cell_type": "code",
   "execution_count": 22,
   "id": "e9be0c90-efac-47a1-893c-1d4aea2c73a9",
   "metadata": {},
   "outputs": [
    {
     "name": "stdout",
     "output_type": "stream",
     "text": [
      "<class 'transformers.models.bart.modeling_bart.BartForConditionalGeneration'>\n"
     ]
    }
   ],
   "source": [
    "print(type(model))"
   ]
  },
  {
   "cell_type": "code",
   "execution_count": null,
   "id": "ba6661ef-7b2c-457f-bba1-04fe4f9c330d",
   "metadata": {},
   "outputs": [],
   "source": []
  }
 ],
 "metadata": {
  "kernelspec": {
   "display_name": "Python 3 (ipykernel)",
   "language": "python",
   "name": "python3"
  },
  "language_info": {
   "codemirror_mode": {
    "name": "ipython",
    "version": 3
   },
   "file_extension": ".py",
   "mimetype": "text/x-python",
   "name": "python",
   "nbconvert_exporter": "python",
   "pygments_lexer": "ipython3",
   "version": "3.11.9"
  }
 },
 "nbformat": 4,
 "nbformat_minor": 5
}
