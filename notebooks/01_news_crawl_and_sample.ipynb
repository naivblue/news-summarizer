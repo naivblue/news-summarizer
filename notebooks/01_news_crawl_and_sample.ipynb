{
 "cells": [
  {
   "cell_type": "code",
   "execution_count": 1,
   "id": "68545730-99e9-4fa3-8d52-979b45438108",
   "metadata": {},
   "outputs": [
    {
     "name": "stdout",
     "output_type": "stream",
     "text": [
      "\n",
      "\n",
      "\n",
      "\n",
      "\n",
      "넷플릭스 시리즈 ‘오징어 게임’ 시즌 3 장면. 넷플릭스 제공넷플릭스 기대작 ‘오징어 게임’의 시즌3가 27일 공개된 가운데, 외신들이 엇갈린 평가를 내놓고 있다.미 일간 뉴욕타임스(NYT)는 이날 리뷰 기사에서 반복되는 스토리 구조를 지적했다. 뉴욕타임스는 “창작물로 두번째 또는 세번째 시즌의 가치가 있게 하려면 우리를 놀라게 할 만한 무언가가 있어야 했다”며 “대부분 시리즈에 어느 정도 공식이 있을 수 있지만, 반복되는 공식이 방금 전에 스스로 만들어낸 것일 때, 그것을 눈치채지 않기는 더 어렵다”고 했다.뉴욕타임스는 “서부극과 전쟁 영화의 오랜 역사에서 도출된 유형의 캐릭터들은 일차원적이고 예측 가능하다”고 했다. 이어 각본과 연출을 담당한 황동혁 감독에 대해 “여전히 능숙하게 액션을 조율하지만 그의 상상력은 부족하다”고 했다.영화계 전문지인 할리우드리포터는 “한때 열광을 일으켰던 넷플릭스의 큰 히트작이 실망스러운 결말로 힘겹게 마무리됐다”는 제목으로 후기를 전했다. 그러면서 “시즌1과 달리 끝까지 암울하고 절망적일뿐”이라며 “시즌2에 등장한 새로운 인물들이 실망스러울 정도로 빈약하게 느껴졌다면, 시즌3에서는 캐릭터들을 더욱 풍성하게 만들려는 시도조차 하지 않는다. 이들 모두의 공통점은 행동력과 내면을 가진 복잡한 인간이라기보다는 체스판 위에서 밀리는 말들처럼 보인다는 것”이라고 했다.미 연예매체 버라이어티는 “시즌3은 게임의 반복적인 구조와 새로운 캐릭터의 부재로 인해 앞의 두 시즌만큼 뇌리에 깊이 남는 웅장한 작품은 아니다”라고 평가했다. 이어 “그래도 마지막 6편의 에피소드를 가치 있게 만드는 몇몇 설득력 있는 반전은 있다”고 했다.호평도 적지 않았다. 타임지는 ‘오징어 게임’ 시즌3 공개 이후 “넷플릭스가 별 의미 없이 시즌 2의 결말을 미뤘던 건 큰 타격이었다. 하지만 다행히도 감독은 다시 작품의 주도권을 쥐었고, 마지막 시즌에서 다시 본연의 잔혹한 매력을 발휘한다”고 했다. 미국 연예매체 콜라이더는 “모든 강점을 극대화하고, 그 이상을 보여주는 압도적 피날레”라고 평가했다. 블룸버그는 “우리의 인간성에 무엇이 남아있는지에 대해 질문을 던지는 시리즈”라고 평했다.미국의 영화·티브이(TV) 시리즈 평점 사이트 로튼토마토에서는 이날 한국 시각 오후 2시 기준 일반 시청자 500명 이상이 ‘오징어 게임’ 시즌3에 점수를 매겼다. 평점은 100점 만점에 50점을 기록했다.\n",
      "\n"
     ]
    }
   ],
   "source": [
    "import requests\n",
    "from bs4 import BeautifulSoup\n",
    "\n",
    "def crawl_naver_news(url):\n",
    "    res = requests.get(url)\n",
    "    soup = BeautifulSoup(res.text, \"html.parser\")\n",
    "    article = soup.select_one(\"#dic_area\").text\n",
    "    return article\n",
    "\n",
    "# 예시 기사 URL\n",
    "#url = \"https://news.naver.com/\"\n",
    "url = \"https://n.news.naver.com/article/028/0002753324?cds=news_media_pc\"\n",
    "print(crawl_naver_news(url))"
   ]
  },
  {
   "cell_type": "code",
   "execution_count": 2,
   "id": "d964805b-c6a1-4146-9235-a6ddd9aeca99",
   "metadata": {},
   "outputs": [],
   "source": [
    "with open(\"/Users/user/myproject/project_m_2507/data/raw/naver_20250701.txt\", \"w\") as f:\n",
    "    f.write(crawl_naver_news(url))"
   ]
  },
  {
   "cell_type": "code",
   "execution_count": null,
   "id": "f6a406a0-193f-4b2f-abd1-a0a6d7176cb3",
   "metadata": {},
   "outputs": [],
   "source": []
  }
 ],
 "metadata": {
  "kernelspec": {
   "display_name": "Python 3 (ipykernel)",
   "language": "python",
   "name": "python3"
  },
  "language_info": {
   "codemirror_mode": {
    "name": "ipython",
    "version": 3
   },
   "file_extension": ".py",
   "mimetype": "text/x-python",
   "name": "python",
   "nbconvert_exporter": "python",
   "pygments_lexer": "ipython3",
   "version": "3.11.9"
  }
 },
 "nbformat": 4,
 "nbformat_minor": 5
}
